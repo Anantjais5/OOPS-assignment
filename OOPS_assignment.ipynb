{
  "nbformat": 4,
  "nbformat_minor": 0,
  "metadata": {
    "colab": {
      "provenance": []
    },
    "kernelspec": {
      "name": "python3",
      "display_name": "Python 3"
    },
    "language_info": {
      "name": "python"
    }
  },
  "cells": [
    {
      "cell_type": "markdown",
      "source": [
        "1. What are the five key concepts of Object-Oriented Programming (OOP)?"
      ],
      "metadata": {
        "id": "glB6a4BM7wzJ"
      }
    },
    {
      "cell_type": "code",
      "execution_count": null,
      "metadata": {
        "id": "doRJt4Ri7pMx"
      },
      "outputs": [],
      "source": [
        "#the five key concept of OOPS are:\n",
        "#1.Inheritance\n",
        "#2.Polymorphism\n",
        "#3.Encapsulation\n",
        "#4.Abstraction\n",
        "#5.Class & objects"
      ]
    },
    {
      "cell_type": "markdown",
      "source": [
        "2. Write a Python class for a `Car` with attributes for `make`, `model`, and `year`. Include a method to display\n",
        "the car's information.\n"
      ],
      "metadata": {
        "id": "wzPb8LcqyUA4"
      }
    },
    {
      "cell_type": "code",
      "source": [
        "class Car:\n",
        "  def __init__(self, make, model, year):\n",
        "    self.make=make\n",
        "    self.model=model\n",
        "    self.year=year\n",
        "  def display_car_info(self):\n",
        "    print(f\"make{self.make}\")\n",
        "    print(f\"model{self.model}\")\n",
        "    print(f\"year{self.year}\")\n",
        "\n",
        "\n",
        "\n",
        "my_car=Car(\"Toyota\",\"Camry\",2023)\n",
        "my_car.display_car_info()"
      ],
      "metadata": {
        "colab": {
          "base_uri": "https://localhost:8080/"
        },
        "id": "1kT_okfJyNFr",
        "outputId": "dab62ff2-065a-4f97-8907-ff256e4b9e0f"
      },
      "execution_count": null,
      "outputs": [
        {
          "output_type": "stream",
          "name": "stdout",
          "text": [
            "makeToyota\n",
            "modelCamry\n",
            "year2023\n"
          ]
        }
      ]
    },
    {
      "cell_type": "markdown",
      "source": [
        "3. Explain the difference between instance methods and class methods. Provide an example of each"
      ],
      "metadata": {
        "id": "6norMxJA0NLv"
      }
    },
    {
      "cell_type": "code",
      "source": [
        "#the main differnce between instant and class methods are that instance method required class instance  but class method do not.\n",
        "\n",
        "#instance method operate on an instance of a class. and they an access and modify instance_specific data.\n",
        "#class method operate on the class itself not on a specific instance. they can access and modify class level data.\n",
        "\n",
        "class MyClass:\n",
        "    class_variable = 0\n",
        "\n",
        "    def __init__(self, value):\n",
        "        self.instance_variable = value\n",
        "\n",
        "    def instance_method(self):\n",
        "        print(f\"Instance method: {self.instance_variable}\")\n",
        "\n",
        "    @classmethod\n",
        "    def class_method(cls):\n",
        "        print(f\"Class method: {cls.class_variable}\")\n",
        "\n",
        "# Creating instances of MyClass\n",
        "obj1 = MyClass(10)\n",
        "obj2 = MyClass(20)\n",
        "\n",
        "# Calling instance method\n",
        "obj1.instance_method()\n",
        "obj2.instance_method()\n",
        "\n",
        "# Calling class method\n",
        "MyClass.class_method()\n",
        "\n",
        "\n",
        "\n"
      ],
      "metadata": {
        "colab": {
          "base_uri": "https://localhost:8080/"
        },
        "id": "kpgaoR6Bzk7A",
        "outputId": "a6d3fe61-cfb2-4686-c9f5-28d60fdf0c1b"
      },
      "execution_count": null,
      "outputs": [
        {
          "output_type": "stream",
          "name": "stdout",
          "text": [
            "Instance method: 10\n",
            "Instance method: 20\n",
            "Class method: 0\n"
          ]
        }
      ]
    },
    {
      "cell_type": "markdown",
      "source": [
        "4. How does Python implement method overloading? Give an example."
      ],
      "metadata": {
        "id": "Vg5n1Ryl2ra8"
      }
    },
    {
      "cell_type": "code",
      "source": [
        "#method overloading in Python can be accomplished by using variable-length arguments in the method.\n",
        "# You can call a method with a different number of parameters if you create one with variables for the length of the arguments.\n",
        "class Calculator:\n",
        "    def add(self, a, b=15, c=0):\n",
        "        return a + b + c\n",
        "\n",
        "calculator = Calculator()\n",
        "\n",
        "a = calculator.add(5)#here a is 5 and b is already mention as 15 and c is 0 (5,15,0) add=20\n",
        "ab = calculator.add(5, 3)#now here b value which is 15 is  replace with 3 (5,3,0)add=8\n",
        "abc = calculator.add(5, 3, 2)#here b and c values are change with 3 and 2 (5,3,2) add=10\n",
        "\n",
        "print(a)\n",
        "print(ab)\n",
        "print(abc)"
      ],
      "metadata": {
        "colab": {
          "base_uri": "https://localhost:8080/"
        },
        "id": "PyAmMLQj0APB",
        "outputId": "7df03c21-d6f7-4cc4-a365-6b398fa135a6"
      },
      "execution_count": null,
      "outputs": [
        {
          "output_type": "stream",
          "name": "stdout",
          "text": [
            "20\n",
            "8\n",
            "10\n"
          ]
        }
      ]
    },
    {
      "cell_type": "markdown",
      "source": [
        "5. What are the three types of access modifiers in Python? How are they denoted?"
      ],
      "metadata": {
        "id": "A1Y7epD15sG8"
      }
    },
    {
      "cell_type": "code",
      "source": [
        "#there are three types of access modifiers:\n",
        "#public\n",
        "#private\n",
        "#protected\n",
        "\n",
        "\n",
        "\n",
        "class Myclass:\n",
        "  def __init__(self):\n",
        "    self.public_variable = 10#wihtout udersccore\n",
        "    self._protected_variable = 20#single underscore\n",
        "    self.__private_variable = 30#double under score\n",
        "\n",
        "my_ins=Myclass()\n",
        "\n",
        "print(my_ins.public_variable)\n",
        "print(my_ins._protected_variable)\n",
        "print(my_ins._Myclass__private_variable)"
      ],
      "metadata": {
        "colab": {
          "base_uri": "https://localhost:8080/"
        },
        "id": "oaKHjJMX4Lsi",
        "outputId": "dfa6cec7-5070-4b4e-a9c4-53c88e346257"
      },
      "execution_count": 28,
      "outputs": [
        {
          "output_type": "stream",
          "name": "stdout",
          "text": [
            "10\n",
            "20\n",
            "30\n"
          ]
        }
      ]
    },
    {
      "cell_type": "markdown",
      "source": [
        " 6.Describe the five types of inheritance in Python. Provide a simple example of multiple inheritance."
      ],
      "metadata": {
        "id": "4jbDCihj8pig"
      }
    },
    {
      "cell_type": "code",
      "source": [
        "#single inheritance\n",
        "#multiple inheritance\n",
        "#multilevel inheritance\n",
        "#hierarchical inheritance\n",
        "#hybrid inheritance\n",
        "\n",
        "\n",
        "class Animal:\n",
        "  def __init__(self,name):\n",
        "    self.name=name\n",
        "    def speak(self):\n",
        "      print(f\"{self.name} makes a sound\")\n",
        "\n",
        "\n",
        "class Dog(Animal):\n",
        "  def speak(self):\n",
        "    return f\"{self.name} says Woof!\"\n",
        "\n",
        "class Cat(Animal):\n",
        "  def speak(self):\n",
        "    return f\"{self.name} says Meow!\"\n",
        "\n",
        "class DogCat(Dog,Cat):\n",
        "  pass\n",
        "\n",
        "\n",
        "dog_cat=DogCat(\"Buddy\")\n",
        "\n",
        "print(dog_cat.speak())\n"
      ],
      "metadata": {
        "id": "Lss7B-Ti8r__",
        "colab": {
          "base_uri": "https://localhost:8080/"
        },
        "outputId": "d5b32ffe-89f1-4dec-ae97-36f95508f4be"
      },
      "execution_count": 36,
      "outputs": [
        {
          "output_type": "stream",
          "name": "stdout",
          "text": [
            "Buddy says Woof!\n"
          ]
        }
      ]
    },
    {
      "cell_type": "markdown",
      "source": [
        "7. What is the Method Resolution Order (MRO) in Python? How can you retrieve it programmatically?"
      ],
      "metadata": {
        "id": "S2VIT1XMAF5_"
      }
    },
    {
      "cell_type": "code",
      "source": [
        "#The Method Resolution Order (MRO) is the order in which Python searches for methods in a class hierarchy during inheritance.\n",
        "#It determines which method will be executed when a method is called on an object.\n",
        "#This is especially important in cases of multiple inheritance where a class might inherit from multiple base classes with the same method name.\n",
        "\n",
        "class A: pass\n",
        "class B(A): pass\n",
        "class C(A): pass\n",
        "class D(B, C): pass\n",
        "\n",
        "print(D.__mro__)\n",
        ""
      ],
      "metadata": {
        "colab": {
          "base_uri": "https://localhost:8080/"
        },
        "id": "sj9qcdhD-1wd",
        "outputId": "37f2a5a2-099d-477a-8af4-b7f7656f92c5"
      },
      "execution_count": 43,
      "outputs": [
        {
          "output_type": "stream",
          "name": "stdout",
          "text": [
            "(<class '__main__.D'>, <class '__main__.B'>, <class '__main__.C'>, <class '__main__.A'>, <class 'object'>)\n"
          ]
        }
      ]
    },
    {
      "cell_type": "code",
      "source": [],
      "metadata": {
        "id": "CxO3CPBU_Ew9"
      },
      "execution_count": null,
      "outputs": []
    },
    {
      "cell_type": "markdown",
      "source": [
        "8. Create an abstract base class `Shape` with an abstract method `area()`. Then create two subclasses\n",
        "`Circle` and `Rectangle` that implement the `area()` method."
      ],
      "metadata": {
        "id": "bCNkDEtp1ZIO"
      }
    },
    {
      "cell_type": "markdown",
      "source": [],
      "metadata": {
        "id": "kys-71Fi1Y9w"
      }
    },
    {
      "source": [
        "from abc import ABC, abstractmethod\n",
        "import math\n",
        "\n",
        "class Shape(ABC):\n",
        "    @abstractmethod\n",
        "    def area(self):\n",
        "        pass\n",
        "\n",
        "class Circle(Shape):\n",
        "    def __init__(self, radius):\n",
        "        self.radius = radius\n",
        "\n",
        "    def area(self):\n",
        "        return math.pi * self.radius**2\n",
        "\n",
        "class Rectangle(Shape):\n",
        "    def __init__(self, length, width):\n",
        "        self.length = length\n",
        "        self.width = width\n",
        "\n",
        "    def area(self):\n",
        "        return self.length * self.width\n",
        "\n",
        "\n",
        "circle = Circle(8)\n",
        "rectangle = Rectangle(8, 16)\n",
        "\n",
        "print(f\"Circle area: {circle.area()}\")\n",
        "print(f\"Rectangle area: {rectangle.area()}\")"
      ],
      "cell_type": "code",
      "metadata": {
        "colab": {
          "base_uri": "https://localhost:8080/"
        },
        "id": "dgBfSZZ51vTl",
        "outputId": "a1f8adcf-c581-4b3a-a969-b2c69bb2225b"
      },
      "execution_count": 2,
      "outputs": [
        {
          "output_type": "stream",
          "name": "stdout",
          "text": [
            "Circle area: 201.06192982974676\n",
            "Rectangle area: 128\n"
          ]
        }
      ]
    },
    {
      "cell_type": "markdown",
      "source": [
        "9. Demonstrate polymorphism by creating a function that can work with different shape objects to calculate\n",
        "and print their areas."
      ],
      "metadata": {
        "id": "sJ6vGBlK2MzW"
      }
    },
    {
      "cell_type": "code",
      "source": [
        "class Shape:\n",
        "    def area(self):\n",
        "        pass\n",
        "\n",
        "class Circle(Shape):\n",
        "    def __init__(self, radius):\n",
        "        self.radius = radius\n",
        "\n",
        "    def area(self):\n",
        "        return 3.14159 * self.radius * self.radius\n",
        "\n",
        "class Rectangle(Shape):\n",
        "    def __init__(self, length, width):\n",
        "        self.length = length\n",
        "        self.width = width\n",
        "\n",
        "    def area(self):\n",
        "        return self.length * self.width\n",
        "\n",
        "class Triangle(Shape):\n",
        "    def __init__(self, base, height):\n",
        "        self.base = base\n",
        "        self.height = height\n",
        "\n",
        "    def area(self):\n",
        "        return 0.5 * self.base * self.height\n",
        "\n",
        "def calculate_and_print_area(shape):\n",
        "    print(f\"Area of the shape: {shape.area()}\")\n",
        "\n",
        "\n",
        "circle = Circle(5)\n",
        "rectangle = Rectangle(4, 3)\n",
        "triangle = Triangle(6, 8)\n",
        "\n",
        "print(\"Calculating areas:\")\n",
        "calculate_and_print_area(circle)\n",
        "calculate_and_print_area(rectangle)\n",
        "calculate_and_print_area(triangle)"
      ],
      "metadata": {
        "colab": {
          "base_uri": "https://localhost:8080/"
        },
        "id": "1iK2cZaLA1dX",
        "outputId": "28d0c017-4b0a-4277-d2d5-585f270befa4"
      },
      "execution_count": 3,
      "outputs": [
        {
          "output_type": "stream",
          "name": "stdout",
          "text": [
            "Calculating areas:\n",
            "Area of the shape: 78.53975\n",
            "Area of the shape: 12\n",
            "Area of the shape: 24.0\n"
          ]
        }
      ]
    },
    {
      "cell_type": "code",
      "source": [],
      "metadata": {
        "id": "ZpZh9Qzd22ql"
      },
      "execution_count": null,
      "outputs": []
    },
    {
      "cell_type": "markdown",
      "source": [
        "10. Implement encapsulation in a `BankAccount` class with private attributes for `balance` and\n",
        "`account_number`. Include methods for deposit, withdrawal, and balance inquiry."
      ],
      "metadata": {
        "id": "liah25hV29R3"
      }
    },
    {
      "cell_type": "code",
      "source": [
        "class BankAccount:\n",
        "    def __init__(self, account_number, initial_balance):\n",
        "        self.__account_number = account_number\n",
        "        self.__balance = initial_balance\n",
        "\n",
        "    def deposit(self, amount):\n",
        "        if amount > 0:\n",
        "            self.__balance += amount\n",
        "            print(f\"Deposited {amount}. New balance: {self.__balance}\")\n",
        "        else:\n",
        "            print(\"Invalid deposit amount.\")\n",
        "\n",
        "    def withdraw(self, amount):\n",
        "        if amount > 0 and amount <= self.__balance:\n",
        "            self.__balance -= amount\n",
        "            print(f\"Withdrew {amount}. New balance: {self.__balance}\")\n",
        "        else:\n",
        "            print(\"Invalid withdrawal amount or insufficient funds.\")\n",
        "\n",
        "    def get_balance(self):\n",
        "        return self.__balance\n",
        "\n",
        "\n",
        "account = BankAccount(\"1234567890\", 1000)\n",
        "\n",
        "account.deposit(500)\n",
        "account.withdraw(200)\n",
        "\n",
        "# Check the balance\n",
        "balance = account.get_balance()\n",
        "print(f\"Current balance: {balance}\")"
      ],
      "metadata": {
        "colab": {
          "base_uri": "https://localhost:8080/"
        },
        "id": "kbASq6CC29yg",
        "outputId": "2a5d2500-f048-4e28-f8bd-f9e37b8929f5"
      },
      "execution_count": 4,
      "outputs": [
        {
          "output_type": "stream",
          "name": "stdout",
          "text": [
            "Deposited 500. New balance: 1500\n",
            "Withdrew 200. New balance: 1300\n",
            "Current balance: 1300\n"
          ]
        }
      ]
    },
    {
      "cell_type": "markdown",
      "source": [
        "11. Write a class that overrides the `__str__` and `__add__` magic methods. What will these methods allow\n",
        "you to do?"
      ],
      "metadata": {
        "id": "DnIfBgjD4-uO"
      }
    },
    {
      "cell_type": "code",
      "source": [
        "class Point:\n",
        "    def __init__(self, x, y):\n",
        "        self.x = x\n",
        "        self.y = y\n",
        "\n",
        "    def __str__(self):\n",
        "        return f\"({self.x}, {self.y})\"\n",
        "\n",
        "    def __add__(self, other):\n",
        "        return Point(self.x + other.x, self.y + other.y)\n",
        "\n",
        "\n",
        "p1 = Point(2, 3)\n",
        "p2 = Point(4, 5)\n",
        "\n",
        "print(p1)\n",
        "print(p2)\n",
        "\n",
        "p3 = p1 + p2\n",
        "print(p3)"
      ],
      "metadata": {
        "colab": {
          "base_uri": "https://localhost:8080/"
        },
        "id": "YLvwHWdC4wUY",
        "outputId": "8bb76755-61e8-449c-f8d0-7848a41fcdf2"
      },
      "execution_count": 5,
      "outputs": [
        {
          "output_type": "stream",
          "name": "stdout",
          "text": [
            "(2, 3)\n",
            "(4, 5)\n",
            "(6, 8)\n"
          ]
        }
      ]
    },
    {
      "cell_type": "markdown",
      "source": [
        "12. Create a decorator that measures and prints the execution time of a function."
      ],
      "metadata": {
        "id": "7LTp2ASq5di7"
      }
    },
    {
      "cell_type": "code",
      "source": [
        "import time\n",
        "\n",
        "def timer(func):\n",
        "    def wrapper(*args, **kwargs):\n",
        "        start_time = time.time()\n",
        "        result = func(*args, **kwargs)\n",
        "        end_time = time.time()\n",
        "        execution_time = end_time - start_time\n",
        "        print(f\"Function '{func.__name__}' took {execution_time:.4f} seconds to execute.\")\n",
        "        return result\n",
        "    return wrapper\n",
        "\n",
        "\n",
        "@timer\n",
        "def my_function():\n",
        "\n",
        "    time.sleep(2)\n",
        "\n",
        "my_function()"
      ],
      "metadata": {
        "colab": {
          "base_uri": "https://localhost:8080/"
        },
        "id": "0p6uBLYY5XvC",
        "outputId": "423fcede-cd9c-4954-f8bf-76118a8be8e5"
      },
      "execution_count": 6,
      "outputs": [
        {
          "output_type": "stream",
          "name": "stdout",
          "text": [
            "Function 'my_function' took 2.0021 seconds to execute.\n"
          ]
        }
      ]
    },
    {
      "cell_type": "code",
      "source": [],
      "metadata": {
        "id": "hv_fudwt5pRA"
      },
      "execution_count": null,
      "outputs": []
    },
    {
      "cell_type": "markdown",
      "source": [
        "13. Explain the concept of the Diamond Problem in multiple inheritance. How does Python resolve it?"
      ],
      "metadata": {
        "id": "OqsVV2wt6G0I"
      }
    },
    {
      "cell_type": "code",
      "source": [
        "#The Diamond Problem occurs in multiple inheritance when a class inherits from two classes that have a common base class.\n",
        "#This creates ambiguity about which method to call when a method with the same name is defined in both parent classes and the child class."
      ],
      "metadata": {
        "id": "zMxymxMA6HR8"
      },
      "execution_count": null,
      "outputs": []
    },
    {
      "cell_type": "markdown",
      "source": [
        "14. Write a class method that keeps track of the number of instances created from a class."
      ],
      "metadata": {
        "id": "jeMsS9y56iLp"
      }
    },
    {
      "cell_type": "code",
      "source": [
        "class MyClass:\n",
        "    instance_count = 0  #\n",
        "\n",
        "    def __init__(self):\n",
        "        MyClass.instance_count += 1\n",
        "\n",
        "    @classmethod\n",
        "    def get_instance_count(cls):\n",
        "        return cls.instance_count\n",
        "\n",
        "\n",
        "obj1 = MyClass()\n",
        "obj2 = MyClass()\n",
        "obj3 = MyClass()\n",
        "\n",
        "print(MyClass.get_instance_count())"
      ],
      "metadata": {
        "colab": {
          "base_uri": "https://localhost:8080/"
        },
        "id": "Z42LWsdf6iwQ",
        "outputId": "29c35781-f11e-43a1-b417-6ec1b1b221c0"
      },
      "execution_count": 7,
      "outputs": [
        {
          "output_type": "stream",
          "name": "stdout",
          "text": [
            "3\n"
          ]
        }
      ]
    },
    {
      "cell_type": "code",
      "source": [],
      "metadata": {
        "id": "uQ5hDRkV6z6w"
      },
      "execution_count": null,
      "outputs": []
    },
    {
      "cell_type": "markdown",
      "source": [
        "15. Implement a static method in a class that checks if a given year is a leap year."
      ],
      "metadata": {
        "id": "ZtDEFsVL696m"
      }
    },
    {
      "cell_type": "code",
      "source": [
        "class YearHelper:\n",
        "    @staticmethod\n",
        "    def is_leap_year(year):\n",
        "\n",
        "        return (year % 4 == 0 and year % 100 != 0) or year % 400 == 0\n",
        "\n",
        "# Usage\n",
        "print(YearHelper.is_leap_year(2020))\n",
        "print(YearHelper.is_leap_year(2023))"
      ],
      "metadata": {
        "colab": {
          "base_uri": "https://localhost:8080/"
        },
        "id": "o_htVUSt6-gB",
        "outputId": "53fe8f26-cca9-4f0f-b451-f40d82da5ded"
      },
      "execution_count": 10,
      "outputs": [
        {
          "output_type": "stream",
          "name": "stdout",
          "text": [
            "True\n",
            "False\n"
          ]
        }
      ]
    },
    {
      "cell_type": "code",
      "source": [],
      "metadata": {
        "id": "jzMl-qCv7KUb"
      },
      "execution_count": null,
      "outputs": []
    }
  ]
}